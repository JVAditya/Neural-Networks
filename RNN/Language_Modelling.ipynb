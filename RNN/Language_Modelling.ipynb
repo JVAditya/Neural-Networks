{
 "cells": [
  {
   "cell_type": "code",
   "execution_count": null,
   "id": "3375f213",
   "metadata": {},
   "outputs": [],
   "source": [
    "import reader"
   ]
  },
  {
   "cell_type": "code",
   "execution_count": 1,
   "id": "eeb57fa4",
   "metadata": {},
   "outputs": [],
   "source": [
    "\n",
    "init_scale = 0.1\n",
    "\n",
    "learning_rate = 1.0\n",
    "\n",
    "max_grad_norm = 5\n",
    "\n",
    "num_layers = 2\n",
    "\n",
    "num_steps = 20\n",
    "\n",
    "hidden_size_l1 = 256\n",
    "hidden_size_l2 = 128\n",
    "\n",
    "max_epoch_decay_lr = 4\n",
    "\n",
    "max_epoch = 15\n",
    "\n",
    "\n",
    "keep_prob = 1\n",
    "\n",
    "decay = 0.5\n",
    "\n",
    "batch_size = 30\n",
    "\n",
    "vocab_size = 10000\n",
    "embeding_vector_size= 200\n",
    "\n",
    "is_training = 1\n",
    "\n"
   ]
  },
  {
   "cell_type": "code",
   "execution_count": null,
   "id": "588a8f17",
   "metadata": {},
   "outputs": [],
   "source": []
  }
 ],
 "metadata": {
  "kernelspec": {
   "display_name": "Python 3 (ipykernel)",
   "language": "python",
   "name": "python3"
  },
  "language_info": {
   "codemirror_mode": {
    "name": "ipython",
    "version": 3
   },
   "file_extension": ".py",
   "mimetype": "text/x-python",
   "name": "python",
   "nbconvert_exporter": "python",
   "pygments_lexer": "ipython3",
   "version": "3.9.12"
  }
 },
 "nbformat": 4,
 "nbformat_minor": 5
}
